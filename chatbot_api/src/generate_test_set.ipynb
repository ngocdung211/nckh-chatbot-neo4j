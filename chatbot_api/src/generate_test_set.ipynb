{
 "cells": [
  {
   "cell_type": "code",
   "execution_count": null,
   "metadata": {},
   "outputs": [],
   "source": [
    "import json\n",
    "json_file = \"/Users/admin/Working/nckh-chatbot-neo4j/crawl_data/cleaned_links4_haui.json\"\n",
    "with open(json_file, 'r', encoding='utf-8') as f:\n",
    "    data = json.load(f)\n",
    "\n",
    "# Loop through each entry in the JSON file\n",
    "web_test_set_urls = []\n",
    "for entry in data:\n",
    "    url = entry.get(\"url\")\n",
    "    web_test_set_urls.append(url)\n",
    "    \n",
    "from utils.load_html_test import load_document_web\n",
    "\n",
    "docs = load_document_web(web_test_set_urls[30:70])\n",
    "docs"
   ]
  },
  {
   "cell_type": "code",
   "execution_count": null,
   "metadata": {},
   "outputs": [],
   "source": [
    "from ragas.llms import LangchainLLMWrapper\n",
    "from ragas.embeddings.base import LangchainEmbeddingsWrapper\n",
    "from langchain_openai import ChatOpenAI\n",
    "from langchain_openai import OpenAIEmbeddings\n",
    "from llm.get_llm import generate_test_model_function, get_embedding_function, get_model_function\n",
    "generator_llm = LangchainLLMWrapper(get_model_function())\n",
    "generator_embeddings = LangchainEmbeddingsWrapper(get_embedding_function())\n",
    "\n",
    "from ragas.testset.persona import Persona\n",
    "\n",
    "personas = [\n",
    "    Persona(\n",
    "        name=\"sinh viên tò mò\",\n",
    "        role_description=\"Một sinh viên Việt Nam đang tiến hành nghiên cứu về các nội dung liên quan đến hoạt động của Khoa công nghệ thông tin Trường Đại học Công nghiệp Hà Nội. Các nội dung liện quan tới các ngành, các hoạt động, các cuộc thi, các câu lạc bộ. Câu hỏi sẽ ở ngôn ngữ tiếng Việt\",\n",
    "    ),\n",
    "    Persona(\n",
    "        name=\"Giảng viên tận tâm\",\n",
    "        role_description=\"Một giảng viên tại Khoa Công nghệ Thông tin Trường Đại học Công nghiệp Hà Nội, luôn tìm kiếm cách nâng cao chất lượng giảng dạy và hỗ trợ sinh viên. Quan tâm đến các hoạt động học thuật, đổi mới phương pháp giảng dạy, và phát triển các chương trình hợp tác với doanh nghiệp. Câu hỏi sẽ ở ngôn ngữ tiếng Việt\"\n",
    "    ),\n",
    "    Persona(\n",
    "        name=\"Học sinh đang tìm hiểu\",\n",
    "        role_description=\"Một học sinh lớp 12 tại Việt Nam đang cân nhắc đăng ký vào Đại học Công nghiệp Hà Nội, đặc biệt quan tâm đến ngành Công nghệ Thông tin. Mong muốn tìm hiểu về chương trình đào tạo, cơ hội nghề nghiệp sau khi tốt nghiệp, và các tiêu chí xét tuyển của trường. Câu hỏi sẽ ở ngôn ngữ tiếng Việt\"\n",
    "    ),\n",
    "    Persona(\n",
    "        name=\"Phụ huynh lo lắng\",\n",
    "        role_description=\"Một phụ huynh có con đang chuẩn bị xét tuyển vào Đại học Công nghiệp Hà Nội. Quan tâm đến môi trường học tập, chất lượng đào tạo, cơ hội việc làm sau khi tốt nghiệp, cũng như chi phí học tập và hỗ trợ sinh viên tại trường. Câu hỏi sẽ ở ngôn ngữ tiếng Việt\"\n",
    "    ),\n",
    "\n",
    "\n",
    "]"
   ]
  },
  {
   "cell_type": "code",
   "execution_count": 57,
   "metadata": {},
   "outputs": [],
   "source": [
    "from ragas.testset import TestsetGenerator\n",
    "from ragas.cost import get_token_usage_for_openai\n",
    "\n",
    "generator = TestsetGenerator(\n",
    "    llm=generator_llm, embedding_model=generator_embeddings, persona_list=personas\n",
    ")\n",
    "\n",
    "from ragas.testset.synthesizers.single_hop.specific import (\n",
    "    SingleHopSpecificQuerySynthesizer,\n",
    ")\n",
    "from ragas.testset.synthesizers.multi_hop.specific import MultiHopSpecificQuerySynthesizer\n",
    "\n",
    "distribution = [\n",
    "    (SingleHopSpecificQuerySynthesizer(llm=generator_llm), 0.5),\n",
    "    (MultiHopSpecificQuerySynthesizer(llm=generator_llm), 0.5),\n",
    "]\n",
    "\n",
    "# for query, _ in distribution:\n",
    "    # prompts = await query.adapt_prompts(\"spanish\", llm=generator_llm)\n",
    "    # query.set_prompts(**prompts)\n",
    "    # query.save_prompts(\"/Users/admin/Working/thaibinh-chatbot/evaluate\")"
   ]
  },
  {
   "cell_type": "code",
   "execution_count": null,
   "metadata": {},
   "outputs": [],
   "source": [
    "from ragas.cost import get_token_usage_for_openai\n",
    "\n",
    "dataset = generator.generate_with_langchain_docs(\n",
    "    docs,\n",
    "    testset_size=80,\n",
    "    query_distribution=distribution,\n",
    "    \n",
    ")"
   ]
  },
  {
   "cell_type": "code",
   "execution_count": 59,
   "metadata": {},
   "outputs": [],
   "source": [
    "\n",
    "eval_dataset = dataset.to_evaluation_dataset()\n",
    "eval_dataset.to_csv(\"test_set_with_web_Haui_20-12_4.csv\")"
   ]
  },
  {
   "cell_type": "code",
   "execution_count": 17,
   "metadata": {},
   "outputs": [],
   "source": []
  },
  {
   "cell_type": "code",
   "execution_count": null,
   "metadata": {},
   "outputs": [],
   "source": []
  }
 ],
 "metadata": {
  "kernelspec": {
   "display_name": "llm_neo2",
   "language": "python",
   "name": "python3"
  },
  "language_info": {
   "codemirror_mode": {
    "name": "ipython",
    "version": 3
   },
   "file_extension": ".py",
   "mimetype": "text/x-python",
   "name": "python",
   "nbconvert_exporter": "python",
   "pygments_lexer": "ipython3",
   "version": "3.11.8"
  }
 },
 "nbformat": 4,
 "nbformat_minor": 2
}
