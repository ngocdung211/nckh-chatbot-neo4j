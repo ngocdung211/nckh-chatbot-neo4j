{
 "cells": [
  {
   "cell_type": "code",
   "execution_count": 1,
   "metadata": {},
   "outputs": [],
   "source": [
    "from langchain_community.document_loaders import JSONLoader\n",
    "from langchain_core.documents import Document\n",
    "from utils.load_json import get_chunk_with_json\n",
    "\n",
    "\n",
    "\n",
    "\n",
    "json_file = \"/Users/admin/Working/nckh-chatbot-neo4j/crawl_data/fit.jsonl\"\n",
    "webs = get_chunk_with_json(json_file)\n",
    "# loader = JSONLoader(\n",
    "#     file_path=json_file,\n",
    "#     jq_schema='.id',\n",
    "#     text_content=False,\n",
    "#     json_lines=True\n",
    "# )\n",
    "docs = []\n",
    "for data in webs:\n",
    "    page_content = data['kwargs']['page_content']\n",
    "        \n",
    "    title = data['kwargs']['metadata']['title']\n",
    "    source = data['kwargs']['metadata']['source']\n",
    "    if len(page_content)>500:\n",
    "        doc = Document(page_content=page_content, metadata={\"source\": source, \"title\":title})\n",
    "        docs.append(doc)\n"
   ]
  },
  {
   "cell_type": "code",
   "execution_count": 2,
   "metadata": {},
   "outputs": [
    {
     "name": "stderr",
     "output_type": "stream",
     "text": [
      "/opt/anaconda3/envs/test_ragas3/lib/python3.11/site-packages/tqdm/auto.py:21: TqdmWarning: IProgress not found. Please update jupyter and ipywidgets. See https://ipywidgets.readthedocs.io/en/stable/user_install.html\n",
      "  from .autonotebook import tqdm as notebook_tqdm\n"
     ]
    },
    {
     "name": "stdout",
     "output_type": "stream",
     "text": [
      "✅✅Environment file in llm loaded successfully\n",
      "get llm \n",
      "get_embedding_function\n"
     ]
    }
   ],
   "source": [
    "from ragas.llms import LangchainLLMWrapper\n",
    "from ragas.embeddings.base import LangchainEmbeddingsWrapper\n",
    "from langchain_openai import ChatOpenAI\n",
    "from langchain_openai import OpenAIEmbeddings\n",
    "from llm.get_llm import generate_test_model_function, get_embedding_function, get_model_function\n",
    "generator_llm = LangchainLLMWrapper(get_model_function())\n",
    "generator_embeddings = LangchainEmbeddingsWrapper(get_embedding_function())\n",
    "\n",
    "from ragas.testset.persona import Persona\n",
    "\n",
    "personas = [\n",
    "    Persona(\n",
    "        name=\"sinh viên tò mò\",\n",
    "        role_description=\"Một sinh viên Việt Nam đang tiến hành nghiên cứu về các nội dung liên quan đến hoạt động của Khoa công nghệ thông tin Trường Đại học Công nghiệp Hà Nội. Các nội dung liện quan tới các ngành, các hoạt động, các cuộc thi, các câu lạc bộ. Câu hỏi sẽ ở ngôn ngữ tiếng Việt\",\n",
    "    ),\n",
    "    Persona(\n",
    "        name=\"Giảng viên tận tâm\",\n",
    "        role_description=\"Một giảng viên tại Khoa Công nghệ Thông tin Trường Đại học Công nghiệp Hà Nội, luôn tìm kiếm cách nâng cao chất lượng giảng dạy và hỗ trợ sinh viên. Quan tâm đến các hoạt động học thuật, đổi mới phương pháp giảng dạy, và phát triển các chương trình hợp tác với doanh nghiệp. Câu hỏi sẽ ở ngôn ngữ tiếng Việt\"\n",
    "    ),\n",
    "    Persona(\n",
    "        name=\"Học sinh đang tìm hiểu\",\n",
    "        role_description=\"Một học sinh lớp 12 tại Việt Nam đang cân nhắc đăng ký vào khoa công nghệ thông tin Đại học Công nghiệp Hà Nội, đặc biệt quan tâm đến ngành Công nghệ Thông tin. Mong muốn tìm hiểu về chương trình đào tạo, cơ hội nghề nghiệp sau khi tốt nghiệp, và các tiêu chí xét tuyển của trường. Câu hỏi sẽ ở ngôn ngữ tiếng Việt\"\n",
    "    ),\n",
    "    Persona(\n",
    "        name=\"Phụ huynh lo lắng\",\n",
    "        role_description=\"Một phụ huynh có con đang chuẩn bị xét tuyển vào khoa công nghệ thông tin  Đại học Công nghiệp Hà Nội. Quan tâm đến môi trường học tập, chất lượng đào tạo, cơ hội việc làm sau khi tốt nghiệp, cũng như chi phí học tập và hỗ trợ sinh viên tại trường. Câu hỏi sẽ ở ngôn ngữ tiếng Việt\"\n",
    "    ),\n",
    "\n",
    "\n",
    "]"
   ]
  },
  {
   "cell_type": "code",
   "execution_count": 3,
   "metadata": {},
   "outputs": [],
   "source": [
    "from ragas.testset import TestsetGenerator\n",
    "from ragas.cost import get_token_usage_for_openai\n",
    "\n",
    "generator = TestsetGenerator(\n",
    "    llm=generator_llm, embedding_model=generator_embeddings, persona_list=personas\n",
    ")\n",
    "\n",
    "from ragas.testset.synthesizers.single_hop.specific import (\n",
    "    SingleHopSpecificQuerySynthesizer,\n",
    ")\n",
    "from ragas.testset.synthesizers.multi_hop.specific import MultiHopSpecificQuerySynthesizer\n",
    "\n",
    "distribution = [\n",
    "    (SingleHopSpecificQuerySynthesizer(llm=generator_llm), 0.5),\n",
    "    (MultiHopSpecificQuerySynthesizer(llm=generator_llm), 0.5),\n",
    "]\n",
    "\n",
    "# for query, _ in distribution:\n",
    "    # prompts = await query.adapt_prompts(\"spanish\", llm=generator_llm)\n",
    "    # query.set_prompts(**prompts)\n",
    "    # query.save_prompts(\"/Users/admin/Working/thaibinh-chatbot/evaluate\")"
   ]
  },
  {
   "cell_type": "code",
   "execution_count": 6,
   "metadata": {},
   "outputs": [
    {
     "name": "stderr",
     "output_type": "stream",
     "text": [
      "Applying HeadlineSplitter:   0%|          | 0/90 [00:00<?, ?it/s]           unable to apply transformation: 'headlines' property not found in this node\n",
      "unable to apply transformation: 'headlines' property not found in this node\n",
      "unable to apply transformation: 'headlines' property not found in this node\n",
      "unable to apply transformation: 'headlines' property not found in this node\n",
      "unable to apply transformation: 'headlines' property not found in this node\n",
      "unable to apply transformation: 'headlines' property not found in this node\n",
      "unable to apply transformation: 'headlines' property not found in this node\n",
      "unable to apply transformation: 'headlines' property not found in this node\n",
      "unable to apply transformation: 'headlines' property not found in this node\n",
      "unable to apply transformation: 'headlines' property not found in this node\n",
      "unable to apply transformation: 'headlines' property not found in this node\n",
      "unable to apply transformation: 'headlines' property not found in this node\n",
      "Applying SummaryExtractor:   0%|          | 0/146 [00:00<?, ?it/s]"
     ]
    }
   ],
   "source": [
    "from ragas.cost import get_token_usage_for_openai\n",
    "\n",
    "dataset = generator.generate_with_langchain_docs(\n",
    "    docs[50:140],\n",
    "    testset_size=90,\n",
    "    query_distribution=distribution,\n",
    "    \n",
    ")"
   ]
  },
  {
   "cell_type": "code",
   "execution_count": 5,
   "metadata": {},
   "outputs": [],
   "source": [
    "import datetime\n",
    "\n",
    "# Get the current date and time\n",
    "current_datetime = datetime.datetime.now()\n",
    "\n",
    "# Format the current date and time\n",
    "formatted_datetime = current_datetime.strftime(\"%y%m%d-%H%M\")\n",
    "\n",
    "# Create a dynamic filename\n",
    "filename = f\"test_fit{formatted_datetime}\"\n",
    "eval_dataset = dataset.to_evaluation_dataset()\n",
    "eval_dataset.to_csv(f\"{filename}.csv\")"
   ]
  },
  {
   "cell_type": "code",
   "execution_count": 17,
   "metadata": {},
   "outputs": [],
   "source": []
  },
  {
   "cell_type": "code",
   "execution_count": null,
   "metadata": {},
   "outputs": [],
   "source": []
  }
 ],
 "metadata": {
  "kernelspec": {
   "display_name": "llm_neo2",
   "language": "python",
   "name": "python3"
  },
  "language_info": {
   "codemirror_mode": {
    "name": "ipython",
    "version": 3
   },
   "file_extension": ".py",
   "mimetype": "text/x-python",
   "name": "python",
   "nbconvert_exporter": "python",
   "pygments_lexer": "ipython3",
   "version": "3.11.8"
  }
 },
 "nbformat": 4,
 "nbformat_minor": 2
}
